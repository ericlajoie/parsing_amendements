{
 "cells": [
  {
   "cell_type": "code",
   "execution_count": 291,
   "metadata": {},
   "outputs": [],
   "source": [
    "from Levenshtein import distance\n",
    "import numpy as np\n",
    "import pandas as pd\n",
    "import os\n",
    "import unicodedata\n",
    "import re"
   ]
  },
  {
   "cell_type": "code",
   "execution_count": 221,
   "metadata": {
    "collapsed": false
   },
   "outputs": [],
   "source": [
    "def get_levenshtein(x,y):\n",
    "    # ordering the inputs by length so that a<=b\n",
    "    a=max(len(x), len(y))\n",
    "    b=min(len(x), len(y))\n",
    "    if a==0: # one of the input is empty\n",
    "        return 1.\n",
    "    if a > b+500: # if there are more than 500 more chars then return 100%\n",
    "        return 1.\n",
    "    # return the levenshtein distance normalized by the mean length\n",
    "    mean_length = (a + b)/2.\n",
    "    return 2 * distance(x,y)/mean_length\n",
    "\n",
    "def normalize_text(x):\n",
    "    return unicodedata.normalize(\"NFKD\", x.replace(\";\",\" \")).upper()"
   ]
  },
  {
   "cell_type": "code",
   "execution_count": 222,
   "metadata": {},
   "outputs": [],
   "source": [
    "def keep_digits(x):\n",
    "    return ''.join(filter(lambda x: x.isdigit(), x))"
   ]
  },
  {
   "cell_type": "code",
   "execution_count": 223,
   "metadata": {},
   "outputs": [],
   "source": [
    "projet_loi_AN = normalize_text(\"EQUILIBRE DANS LE SECTEUR AGRICOLE ET ALIMENTAIRE\")\n",
    "projet_loi_senat = normalize_text(\"Relations commerciales dans le secteur agricole et alimentaire\")"
   ]
  },
  {
   "cell_type": "code",
   "execution_count": 312,
   "metadata": {
    "collapsed": false
   },
   "outputs": [],
   "source": [
    "def lecture_amendement(folder, projet_loi, start_offset):\n",
    "    res=\"\"\n",
    "    starts=[]\n",
    "    row=0\n",
    "    all_amendement = []\n",
    "    print(\"Lecture des fichiers dans {} : \".format(folder))\n",
    "    for f in os.listdir(folder):\n",
    "        print(\"{}\".format(f), end=',')\n",
    "        current_file= open(folder+\"/\"+f, encoding=\"iso-8859-1\")\n",
    "        \n",
    "        for line in current_file:\n",
    "            all_amendement.append(normalize_text(line.strip()))\n",
    "            if normalize_text(line.strip()[0:len(projet_loi)]) == normalize_text(projet_loi):\n",
    "                starts.append(row-start_offset)\n",
    "            row+=1\n",
    "                \n",
    "        current_file.close()\n",
    "    print(\"\")\n",
    "    print(\"\")\n",
    "    return starts, all_amendement\n",
    "\n",
    "\n",
    "def get_amendement_nb(x, nb_offset):\n",
    "    try:\n",
    "        return x[nb_offset].replace(\"N° \",\"\")\n",
    "    except:\n",
    "        return \"0\"\n",
    "\n",
    "\n",
    "def get_amendement_text(x, start_signal, start_offset):\n",
    "    start,end=0,0\n",
    "    for i in range(0, len(x)):\n",
    "        if x[i]==normalize_text(start_signal):\n",
    "            start=i+start_offset\n",
    "            \n",
    "        if i<len(x)-3 and len(x[i])==0 and len(x[i+1])==0 and len(x[i+2])==0:\n",
    "            end=i\n",
    "        \n",
    "        if len(x[i])<18 and ((normalize_text(x[i][0:5])==normalize_text(\"EXPOS\")) or i==len(x)-1 \\\n",
    "        or (normalize_text(x[i][0:5])==normalize_text(\"Objet\"))):\n",
    "            end=i\n",
    "            break\n",
    "    candidate = x[start:end]\n",
    "    res=[]\n",
    "    for i in range(0, len(candidate)):\n",
    "        if normalize_text(\"Cet amendement est en cours\") in normalize_text(candidate[i]):\n",
    "            continue\n",
    "        elif len(candidate[i]) < 2:\n",
    "            continue\n",
    "        else:\n",
    "            res.append(candidate[i])\n",
    "    return \" \".join(res).replace(\"  \", \" \")\n",
    "\n",
    "\n",
    "def get_amendement_art(x, start_signal):\n",
    "    has_started=False\n",
    "    for i in range(0, len(x)):\n",
    "        if x[i]==normalize_text(start_signal):\n",
    "            has_started = True\n",
    "            \n",
    "        if(has_started) and 'ARTICLE' in normalize_text(x[i]):\n",
    "            return re.sub(\".*ARTICLE \",\"\",x[i])\n",
    "    return \"\"\n",
    "            \n",
    "\n",
    "def get_amendements(starts, all_amendements, version, nb_line_offset, start_signal, start_offset):\n",
    "    amendements_nb, amendements_txt, amendements_art, begins, ends = [],[],[],[],[]\n",
    "    for i in range(0, len(starts)):\n",
    "        if i<len(starts)-1:\n",
    "            begin=starts[i]\n",
    "            end=starts[i+1]\n",
    "        else:\n",
    "            begin=starts[-1]\n",
    "            end=len(all_amendements)\n",
    "        #print(begin, end)\n",
    "        current_amendement = all_amendements[begin:end]\n",
    "        #print(starts[i], starts[i+1])\n",
    "        amendements_nb.append(get_amendement_nb(current_amendement, nb_line_offset))\n",
    "        amendements_txt.append(get_amendement_text(current_amendement, start_signal, start_offset))\n",
    "        amendements_art.append(get_amendement_art(current_amendement, start_signal))\n",
    "        begins.append(begin)\n",
    "        ends.append(end)\n",
    "    \n",
    "    df_amendement = pd.DataFrame({'nb_'+version:amendements_nb, \\\n",
    "                                  'txt':amendements_txt, \\\n",
    "                                  'article':amendements_art, 'begin':begins, 'end':ends})\n",
    "    print(\"Il y a {} amendements dans la liasse {}\".format(len(df_amendement), version))\n",
    "    return df_amendement\n"
   ]
  },
  {
   "cell_type": "code",
   "execution_count": 326,
   "metadata": {},
   "outputs": [
    {
     "name": "stdout",
     "output_type": "stream",
     "text": [
      "Lecture des fichiers dans boris_AN/ : \n",
      "1-liasse av 1er à al 15 de l'article 1er.txt,2-liasse-Art 1er fin.txt,3-liasse-Apres art 1er à Apres 3.txt,4-liasse art 4 et ap 4.txt,5-liasse-article 5 et après 5 quinquiès.txt,6-liasse-article 6 à après 8.txt,\n",
      "\n",
      "Lecture des fichiers dans boris_senat/ : \n",
      "nouvelle liasse 2 Sénat CAE 1 à 390.txt,\n",
      "\n",
      "Il y a 824 amendements dans la liasse 1\n",
      "Il y a 390 amendements dans la liasse 2\n"
     ]
    }
   ],
   "source": [
    "starts_1, all_amendement_1 = lecture_amendement(\"boris_AN/\", projet_loi_AN, 5)\n",
    "starts_2, all_amendement_2 = lecture_amendement(\"boris_senat/\", projet_loi_senat, 0)\n",
    "df_amendements_1 = get_amendements(starts_1, all_amendement_1,'1', 1, \"----------\", 3)\n",
    "df_amendements_2 = get_amendements(starts_2, all_amendement_2,'2', 2, \"présenté par\", 10)"
   ]
  },
  {
   "cell_type": "code",
   "execution_count": 314,
   "metadata": {},
   "outputs": [
    {
     "name": "stdout",
     "output_type": "stream",
     "text": [
      "Lecture des fichiers dans AN/ : \n",
      "10_ apräs 15.txt,11_art 15 bis Ö avant 16.txt,12- art 16 Ö la fin.txt,1_  avant 11 et 11 liasse 2.txt,2 _ art 11- apräs 11.txt,3_ 11 bis apräs 11 quindecies.txt,4- art 11 sexdecies -apräs 12.txt,5_ art 12 bis -apräs 13 ter.txt,6_ apräs 13 ter- apräs 14.txt,8_ 14 bis -apräs 14 undecies.txt,9_ art 15.txt,\n",
      "\n",
      "Lecture des fichiers dans senat/ : \n",
      ".DS_Store,liasse sénat 1- 362 COMECO.txt,\n",
      "\n",
      "Il y a 1379 amendements dans la liasse 1\n",
      "Il y a 259 amendements dans la liasse 2\n"
     ]
    }
   ],
   "source": [
    "starts_1, all_amendement_1 = lecture_amendement(\"AN/\", projet_loi_AN, 5)\n",
    "starts_2, all_amendement_2 = lecture_amendement(\"senat/\", projet_loi_senat, 2)\n",
    "df_amendements_1 = get_amendements(starts_1, all_amendement_1,'1', 1, \"----------\", 3)\n",
    "df_amendements_2 = get_amendements(starts_2, all_amendement_2,'2', 5, \"présenté par\", 9)"
   ]
  },
  {
   "cell_type": "code",
   "execution_count": 327,
   "metadata": {},
   "outputs": [
    {
     "data": {
      "text/html": [
       "<div>\n",
       "<style scoped>\n",
       "    .dataframe tbody tr th:only-of-type {\n",
       "        vertical-align: middle;\n",
       "    }\n",
       "\n",
       "    .dataframe tbody tr th {\n",
       "        vertical-align: top;\n",
       "    }\n",
       "\n",
       "    .dataframe thead th {\n",
       "        text-align: right;\n",
       "    }\n",
       "</style>\n",
       "<table border=\"1\" class=\"dataframe\">\n",
       "  <thead>\n",
       "    <tr style=\"text-align: right;\">\n",
       "      <th></th>\n",
       "      <th>nb_2</th>\n",
       "      <th>txt</th>\n",
       "      <th>article</th>\n",
       "      <th>begin</th>\n",
       "      <th>end</th>\n",
       "      <th>cont</th>\n",
       "    </tr>\n",
       "  </thead>\n",
       "  <tbody>\n",
       "    <tr>\n",
       "      <th>36</th>\n",
       "      <td>COM-37</td>\n",
       "      <td>APRÈS LALINÉA 5, AJOUTER UN ARTICLE III (NO...</td>\n",
       "      <td>13</td>\n",
       "      <td>1396</td>\n",
       "      <td>1438</td>\n",
       "      <td>True</td>\n",
       "    </tr>\n",
       "  </tbody>\n",
       "</table>\n",
       "</div>"
      ],
      "text/plain": [
       "      nb_2                                                txt article  begin  \\\n",
       "36  COM-37  APRÈS LALINÉA 5, AJOUTER UN ARTICLE III (NO...      13   1396   \n",
       "\n",
       "     end  cont  \n",
       "36  1438  True  "
      ]
     },
     "execution_count": 327,
     "metadata": {},
     "output_type": "execute_result"
    }
   ],
   "source": [
    "mot=\"CUNICOLE\"\n",
    "\n",
    "df_amendements_1[\"cont\"] = df_amendements_1[\"txt\"].apply(lambda x:mot in x)\n",
    "\n",
    "df_amendements_2[\"cont\"] = df_amendements_2[\"txt\"].apply(lambda x:mot in x)\n",
    "\n",
    "df_amendements_1[df_amendements_1.cont==1]\n",
    "df_amendements_2[df_amendements_2.cont==1]\n"
   ]
  },
  {
   "cell_type": "code",
   "execution_count": 329,
   "metadata": {},
   "outputs": [
    {
     "data": {
      "text/html": [
       "<div>\n",
       "<style scoped>\n",
       "    .dataframe tbody tr th:only-of-type {\n",
       "        vertical-align: middle;\n",
       "    }\n",
       "\n",
       "    .dataframe tbody tr th {\n",
       "        vertical-align: top;\n",
       "    }\n",
       "\n",
       "    .dataframe thead th {\n",
       "        text-align: right;\n",
       "    }\n",
       "</style>\n",
       "<table border=\"1\" class=\"dataframe\">\n",
       "  <thead>\n",
       "    <tr style=\"text-align: right;\">\n",
       "      <th></th>\n",
       "      <th>nb_2</th>\n",
       "      <th>txt</th>\n",
       "      <th>article</th>\n",
       "      <th>begin</th>\n",
       "      <th>end</th>\n",
       "      <th>cont</th>\n",
       "    </tr>\n",
       "  </thead>\n",
       "  <tbody>\n",
       "    <tr>\n",
       "      <th>385</th>\n",
       "      <td>COM-386</td>\n",
       "      <td>ALINÉA 2 1° INSÉRER APRÈS LES MOTS : CÉDÉ...</td>\n",
       "      <td>15</td>\n",
       "      <td>14403</td>\n",
       "      <td>14443</td>\n",
       "      <td>False</td>\n",
       "    </tr>\n",
       "    <tr>\n",
       "      <th>386</th>\n",
       "      <td>COM-387</td>\n",
       "      <td>ALINÉA 3 SUPPRIMER LE MOT : CAPITALISTIQUE</td>\n",
       "      <td>15</td>\n",
       "      <td>14443</td>\n",
       "      <td>14481</td>\n",
       "      <td>False</td>\n",
       "    </tr>\n",
       "    <tr>\n",
       "      <th>387</th>\n",
       "      <td>COM-388</td>\n",
       "      <td>ALINÉA 5 INSÉRER APRÈS LE MOT : STRATÉGIQU...</td>\n",
       "      <td>15</td>\n",
       "      <td>14481</td>\n",
       "      <td>14520</td>\n",
       "      <td>False</td>\n",
       "    </tr>\n",
       "    <tr>\n",
       "      <th>388</th>\n",
       "      <td>COM-389</td>\n",
       "      <td>ALINÉA 2 REMPLACER LES MOTS : AUX ARTICLES L....</td>\n",
       "      <td>15 QUATER (NOUVEAU)</td>\n",
       "      <td>14520</td>\n",
       "      <td>14556</td>\n",
       "      <td>False</td>\n",
       "    </tr>\n",
       "    <tr>\n",
       "      <th>389</th>\n",
       "      <td>COM-390</td>\n",
       "      <td>ALINÉA 8 REMPLACER LES MOTS : À LENTRÉE EN...</td>\n",
       "      <td>16</td>\n",
       "      <td>14556</td>\n",
       "      <td>18879</td>\n",
       "      <td>False</td>\n",
       "    </tr>\n",
       "  </tbody>\n",
       "</table>\n",
       "</div>"
      ],
      "text/plain": [
       "        nb_2                                                txt  \\\n",
       "385  COM-386  ALINÉA 2 1° INSÉRER APRÈS LES MOTS : CÉDÉ...   \n",
       "386  COM-387        ALINÉA 3 SUPPRIMER LE MOT : CAPITALISTIQUE   \n",
       "387  COM-388  ALINÉA 5 INSÉRER APRÈS LE MOT : STRATÉGIQU...   \n",
       "388  COM-389  ALINÉA 2 REMPLACER LES MOTS : AUX ARTICLES L....   \n",
       "389  COM-390  ALINÉA 8 REMPLACER LES MOTS : À LENTRÉE EN...   \n",
       "\n",
       "                 article  begin    end   cont  \n",
       "385                   15  14403  14443  False  \n",
       "386                   15  14443  14481  False  \n",
       "387                   15  14481  14520  False  \n",
       "388  15 QUATER (NOUVEAU)  14520  14556  False  \n",
       "389                   16  14556  18879  False  "
      ]
     },
     "execution_count": 329,
     "metadata": {},
     "output_type": "execute_result"
    }
   ],
   "source": [
    "df_amendements_2.tail()"
   ]
  },
  {
   "cell_type": "code",
   "execution_count": 330,
   "metadata": {
    "collapsed": false
   },
   "outputs": [
    {
     "name": "stdout",
     "output_type": "stream",
     "text": [
      "0 %  2 %  4 %  7 %  "
     ]
    },
    {
     "ename": "KeyboardInterrupt",
     "evalue": "",
     "output_type": "error",
     "traceback": [
      "\u001b[0;31m---------------------------------------------------------------------------\u001b[0m",
      "\u001b[0;31mKeyboardInterrupt\u001b[0m                         Traceback (most recent call last)",
      "\u001b[0;32m<ipython-input-330-cdb2dfc15709>\u001b[0m in \u001b[0;36m<module>\u001b[0;34m()\u001b[0m\n\u001b[1;32m      8\u001b[0m         \u001b[0mprint\u001b[0m\u001b[0;34m(\u001b[0m \u001b[0;34m\"{} %\"\u001b[0m\u001b[0;34m.\u001b[0m\u001b[0mformat\u001b[0m\u001b[0;34m(\u001b[0m\u001b[0mint\u001b[0m\u001b[0;34m(\u001b[0m\u001b[0mi1\u001b[0m \u001b[0;34m*\u001b[0m \u001b[0;36m100\u001b[0m \u001b[0;34m/\u001b[0m \u001b[0mlen\u001b[0m\u001b[0;34m(\u001b[0m\u001b[0mdf_amendements_1\u001b[0m\u001b[0;34m)\u001b[0m\u001b[0;34m)\u001b[0m\u001b[0;34m)\u001b[0m\u001b[0;34m,\u001b[0m \u001b[0mend\u001b[0m\u001b[0;34m=\u001b[0m\u001b[0;34m\"  \"\u001b[0m\u001b[0;34m)\u001b[0m\u001b[0;34m\u001b[0m\u001b[0m\n\u001b[1;32m      9\u001b[0m     \u001b[0;32mfor\u001b[0m \u001b[0mi2\u001b[0m\u001b[0;34m,\u001b[0m\u001b[0mrow2\u001b[0m \u001b[0;32min\u001b[0m \u001b[0mdf_amendements_2\u001b[0m\u001b[0;34m.\u001b[0m\u001b[0miterrows\u001b[0m\u001b[0;34m(\u001b[0m\u001b[0;34m)\u001b[0m\u001b[0;34m:\u001b[0m\u001b[0;34m\u001b[0m\u001b[0m\n\u001b[0;32m---> 10\u001b[0;31m         \u001b[0ml\u001b[0m \u001b[0;34m=\u001b[0m \u001b[0mget_levenshtein\u001b[0m\u001b[0;34m(\u001b[0m\u001b[0mrow1\u001b[0m\u001b[0;34m.\u001b[0m\u001b[0mtxt\u001b[0m\u001b[0;34m,\u001b[0m\u001b[0mrow2\u001b[0m\u001b[0;34m.\u001b[0m\u001b[0mtxt\u001b[0m\u001b[0;34m)\u001b[0m\u001b[0;34m\u001b[0m\u001b[0m\n\u001b[0m\u001b[1;32m     11\u001b[0m         \u001b[0mcurrent_similarity\u001b[0m \u001b[0;34m=\u001b[0m \u001b[0;36m1\u001b[0m\u001b[0;34m-\u001b[0m\u001b[0ml\u001b[0m\u001b[0;34m\u001b[0m\u001b[0m\n\u001b[1;32m     12\u001b[0m \u001b[0;34m\u001b[0m\u001b[0m\n",
      "\u001b[0;32m/anaconda3/lib/python3.6/site-packages/pandas/core/generic.py\u001b[0m in \u001b[0;36m__getattr__\u001b[0;34m(self, name)\u001b[0m\n\u001b[1;32m   4369\u001b[0m         \u001b[0;32melse\u001b[0m\u001b[0;34m:\u001b[0m\u001b[0;34m\u001b[0m\u001b[0m\n\u001b[1;32m   4370\u001b[0m             \u001b[0;32mif\u001b[0m \u001b[0mself\u001b[0m\u001b[0;34m.\u001b[0m\u001b[0m_info_axis\u001b[0m\u001b[0;34m.\u001b[0m\u001b[0m_can_hold_identifiers_and_holds_name\u001b[0m\u001b[0;34m(\u001b[0m\u001b[0mname\u001b[0m\u001b[0;34m)\u001b[0m\u001b[0;34m:\u001b[0m\u001b[0;34m\u001b[0m\u001b[0m\n\u001b[0;32m-> 4371\u001b[0;31m                 \u001b[0;32mreturn\u001b[0m \u001b[0mself\u001b[0m\u001b[0;34m[\u001b[0m\u001b[0mname\u001b[0m\u001b[0;34m]\u001b[0m\u001b[0;34m\u001b[0m\u001b[0m\n\u001b[0m\u001b[1;32m   4372\u001b[0m             \u001b[0;32mreturn\u001b[0m \u001b[0mobject\u001b[0m\u001b[0;34m.\u001b[0m\u001b[0m__getattribute__\u001b[0m\u001b[0;34m(\u001b[0m\u001b[0mself\u001b[0m\u001b[0;34m,\u001b[0m \u001b[0mname\u001b[0m\u001b[0;34m)\u001b[0m\u001b[0;34m\u001b[0m\u001b[0m\n\u001b[1;32m   4373\u001b[0m \u001b[0;34m\u001b[0m\u001b[0m\n",
      "\u001b[0;32m/anaconda3/lib/python3.6/site-packages/pandas/core/series.py\u001b[0m in \u001b[0;36m__getitem__\u001b[0;34m(self, key)\u001b[0m\n\u001b[1;32m    764\u001b[0m         \u001b[0mkey\u001b[0m \u001b[0;34m=\u001b[0m \u001b[0mcom\u001b[0m\u001b[0;34m.\u001b[0m\u001b[0m_apply_if_callable\u001b[0m\u001b[0;34m(\u001b[0m\u001b[0mkey\u001b[0m\u001b[0;34m,\u001b[0m \u001b[0mself\u001b[0m\u001b[0;34m)\u001b[0m\u001b[0;34m\u001b[0m\u001b[0m\n\u001b[1;32m    765\u001b[0m         \u001b[0;32mtry\u001b[0m\u001b[0;34m:\u001b[0m\u001b[0;34m\u001b[0m\u001b[0m\n\u001b[0;32m--> 766\u001b[0;31m             \u001b[0mresult\u001b[0m \u001b[0;34m=\u001b[0m \u001b[0mself\u001b[0m\u001b[0;34m.\u001b[0m\u001b[0mindex\u001b[0m\u001b[0;34m.\u001b[0m\u001b[0mget_value\u001b[0m\u001b[0;34m(\u001b[0m\u001b[0mself\u001b[0m\u001b[0;34m,\u001b[0m \u001b[0mkey\u001b[0m\u001b[0;34m)\u001b[0m\u001b[0;34m\u001b[0m\u001b[0m\n\u001b[0m\u001b[1;32m    767\u001b[0m \u001b[0;34m\u001b[0m\u001b[0m\n\u001b[1;32m    768\u001b[0m             \u001b[0;32mif\u001b[0m \u001b[0;32mnot\u001b[0m \u001b[0mis_scalar\u001b[0m\u001b[0;34m(\u001b[0m\u001b[0mresult\u001b[0m\u001b[0;34m)\u001b[0m\u001b[0;34m:\u001b[0m\u001b[0;34m\u001b[0m\u001b[0m\n",
      "\u001b[0;32m/anaconda3/lib/python3.6/site-packages/pandas/core/indexes/base.py\u001b[0m in \u001b[0;36mget_value\u001b[0;34m(self, series, key)\u001b[0m\n\u001b[1;32m   3098\u001b[0m         \u001b[0mk\u001b[0m \u001b[0;34m=\u001b[0m \u001b[0mcom\u001b[0m\u001b[0;34m.\u001b[0m\u001b[0m_values_from_object\u001b[0m\u001b[0;34m(\u001b[0m\u001b[0mkey\u001b[0m\u001b[0;34m)\u001b[0m\u001b[0;34m\u001b[0m\u001b[0m\n\u001b[1;32m   3099\u001b[0m \u001b[0;34m\u001b[0m\u001b[0m\n\u001b[0;32m-> 3100\u001b[0;31m         \u001b[0mk\u001b[0m \u001b[0;34m=\u001b[0m \u001b[0mself\u001b[0m\u001b[0;34m.\u001b[0m\u001b[0m_convert_scalar_indexer\u001b[0m\u001b[0;34m(\u001b[0m\u001b[0mk\u001b[0m\u001b[0;34m,\u001b[0m \u001b[0mkind\u001b[0m\u001b[0;34m=\u001b[0m\u001b[0;34m'getitem'\u001b[0m\u001b[0;34m)\u001b[0m\u001b[0;34m\u001b[0m\u001b[0m\n\u001b[0m\u001b[1;32m   3101\u001b[0m         \u001b[0;32mtry\u001b[0m\u001b[0;34m:\u001b[0m\u001b[0;34m\u001b[0m\u001b[0m\n\u001b[1;32m   3102\u001b[0m             return self._engine.get_value(s, k,\n",
      "\u001b[0;32m/anaconda3/lib/python3.6/site-packages/pandas/core/indexes/base.py\u001b[0m in \u001b[0;36m_convert_scalar_indexer\u001b[0;34m(self, key, kind)\u001b[0m\n\u001b[1;32m   1632\u001b[0m     \u001b[0;34m@\u001b[0m\u001b[0mAppender\u001b[0m\u001b[0;34m(\u001b[0m\u001b[0m_index_shared_docs\u001b[0m\u001b[0;34m[\u001b[0m\u001b[0;34m'_convert_scalar_indexer'\u001b[0m\u001b[0;34m]\u001b[0m\u001b[0;34m)\u001b[0m\u001b[0;34m\u001b[0m\u001b[0m\n\u001b[1;32m   1633\u001b[0m     \u001b[0;32mdef\u001b[0m \u001b[0m_convert_scalar_indexer\u001b[0m\u001b[0;34m(\u001b[0m\u001b[0mself\u001b[0m\u001b[0;34m,\u001b[0m \u001b[0mkey\u001b[0m\u001b[0;34m,\u001b[0m \u001b[0mkind\u001b[0m\u001b[0;34m=\u001b[0m\u001b[0;32mNone\u001b[0m\u001b[0;34m)\u001b[0m\u001b[0;34m:\u001b[0m\u001b[0;34m\u001b[0m\u001b[0m\n\u001b[0;32m-> 1634\u001b[0;31m         \u001b[0;32massert\u001b[0m \u001b[0mkind\u001b[0m \u001b[0;32min\u001b[0m \u001b[0;34m[\u001b[0m\u001b[0;34m'ix'\u001b[0m\u001b[0;34m,\u001b[0m \u001b[0;34m'loc'\u001b[0m\u001b[0;34m,\u001b[0m \u001b[0;34m'getitem'\u001b[0m\u001b[0;34m,\u001b[0m \u001b[0;34m'iloc'\u001b[0m\u001b[0;34m,\u001b[0m \u001b[0;32mNone\u001b[0m\u001b[0;34m]\u001b[0m\u001b[0;34m\u001b[0m\u001b[0m\n\u001b[0m\u001b[1;32m   1635\u001b[0m \u001b[0;34m\u001b[0m\u001b[0m\n\u001b[1;32m   1636\u001b[0m         \u001b[0;32mif\u001b[0m \u001b[0mkind\u001b[0m \u001b[0;34m==\u001b[0m \u001b[0;34m'iloc'\u001b[0m\u001b[0;34m:\u001b[0m\u001b[0;34m\u001b[0m\u001b[0m\n",
      "\u001b[0;31mKeyboardInterrupt\u001b[0m: "
     ]
    }
   ],
   "source": [
    "threshold = 0.01\n",
    "\n",
    "corresp={}\n",
    "\n",
    "for i1, row1 in df_amendements_1.iterrows():\n",
    "    \n",
    "    if i1 % 20 == 0:\n",
    "        print( \"{} %\".format(int(i1 * 100 / len(df_amendements_1))), end=\"  \")\n",
    "    for i2,row2 in df_amendements_2.iterrows():\n",
    "        l = get_levenshtein(row1.txt,row2.txt)\n",
    "        current_similarity = 1-l\n",
    "        \n",
    "        if(current_similarity > threshold):\n",
    "            \n",
    "            update = True\n",
    "            if row2.nb_2 in corresp:\n",
    "                previous_similarity = corresp[row2.nb_2][3]\n",
    "                if previous_similarity >= current_similarity:\n",
    "                    update = False\n",
    "            \n",
    "            if update:\n",
    "                corresp[row2.nb_2] = (row1.nb_1, row1.txt, row2.txt, current_similarity, row2.article)"
   ]
  },
  {
   "cell_type": "code",
   "execution_count": 331,
   "metadata": {},
   "outputs": [
    {
     "data": {
      "text/html": [
       "<div>\n",
       "<style scoped>\n",
       "    .dataframe tbody tr th:only-of-type {\n",
       "        vertical-align: middle;\n",
       "    }\n",
       "\n",
       "    .dataframe tbody tr th {\n",
       "        vertical-align: top;\n",
       "    }\n",
       "\n",
       "    .dataframe thead th {\n",
       "        text-align: right;\n",
       "    }\n",
       "</style>\n",
       "<table border=\"1\" class=\"dataframe\">\n",
       "  <thead>\n",
       "    <tr style=\"text-align: right;\">\n",
       "      <th></th>\n",
       "      <th>N° v1</th>\n",
       "      <th>N° v2</th>\n",
       "      <th>Amendement v1</th>\n",
       "      <th>Amendement v2</th>\n",
       "      <th>Article v2</th>\n",
       "      <th>Similarité</th>\n",
       "    </tr>\n",
       "  </thead>\n",
       "  <tbody>\n",
       "    <tr>\n",
       "      <th>0</th>\n",
       "      <td>1992</td>\n",
       "      <td>COM-8</td>\n",
       "      <td>AVANT LE TITRE 1ER, CRÉER UN TITRE 1A DISPOS...</td>\n",
       "      <td>AVANT LARTICLE 11 INSÉRER UN ARTICLE ADDITIO...</td>\n",
       "      <td>11</td>\n",
       "      <td>42%</td>\n",
       "    </tr>\n",
       "    <tr>\n",
       "      <th>1</th>\n",
       "      <td>2181</td>\n",
       "      <td>COM-303</td>\n",
       "      <td>AVANT LE TITRE IER, IL EST INSÉRÉ UN TITRE A...</td>\n",
       "      <td>INSÉRER UN ARTICLE ADDITIONNEL AINSI RÉDIGÉ...</td>\n",
       "      <td>15</td>\n",
       "      <td>54%</td>\n",
       "    </tr>\n",
       "    <tr>\n",
       "      <th>2</th>\n",
       "      <td>2179</td>\n",
       "      <td>COM-44</td>\n",
       "      <td>ARTICLE ADDITIONNEL AU TITRE I « LES RÉSIDUS ...</td>\n",
       "      <td>INSÉRER UN ARTICLE ADDITIONNEL AINSI RÉDIGÉ...</td>\n",
       "      <td>1ER</td>\n",
       "      <td>88%</td>\n",
       "    </tr>\n",
       "    <tr>\n",
       "      <th>3</th>\n",
       "      <td>2179</td>\n",
       "      <td>COM-84</td>\n",
       "      <td>ARTICLE ADDITIONNEL AU TITRE I « LES RÉSIDUS ...</td>\n",
       "      <td>APRÈS LARTICLE 10 OCTIES (NOUVEAU) INSÉRER ...</td>\n",
       "      <td>10 OCTIES (NOUVEAU)</td>\n",
       "      <td>69%</td>\n",
       "    </tr>\n",
       "    <tr>\n",
       "      <th>4</th>\n",
       "      <td>2179</td>\n",
       "      <td>COM-203</td>\n",
       "      <td>ARTICLE ADDITIONNEL AU TITRE I « LES RÉSIDUS ...</td>\n",
       "      <td>INSÉRER UN ARTICLE ADDITIONNEL AINSI RÉDIGÉ...</td>\n",
       "      <td>10 OCTIES (NOUVEAU)</td>\n",
       "      <td>87%</td>\n",
       "    </tr>\n",
       "  </tbody>\n",
       "</table>\n",
       "</div>"
      ],
      "text/plain": [
       "  N° v1    N° v2                                      Amendement v1  \\\n",
       "0  1992    COM-8  AVANT LE TITRE 1ER, CRÉER UN TITRE 1A DISPOS...   \n",
       "1  2181  COM-303  AVANT LE TITRE IER, IL EST INSÉRÉ UN TITRE A...   \n",
       "2  2179   COM-44  ARTICLE ADDITIONNEL AU TITRE I « LES RÉSIDUS ...   \n",
       "3  2179   COM-84  ARTICLE ADDITIONNEL AU TITRE I « LES RÉSIDUS ...   \n",
       "4  2179  COM-203  ARTICLE ADDITIONNEL AU TITRE I « LES RÉSIDUS ...   \n",
       "\n",
       "                                       Amendement v2           Article v2  \\\n",
       "0  AVANT LARTICLE 11 INSÉRER UN ARTICLE ADDITIO...                   11   \n",
       "1  INSÉRER UN ARTICLE ADDITIONNEL AINSI RÉDIGÉ...                   15   \n",
       "2  INSÉRER UN ARTICLE ADDITIONNEL AINSI RÉDIGÉ...                  1ER   \n",
       "3  APRÈS LARTICLE 10 OCTIES (NOUVEAU) INSÉRER ...  10 OCTIES (NOUVEAU)   \n",
       "4  INSÉRER UN ARTICLE ADDITIONNEL AINSI RÉDIGÉ...  10 OCTIES (NOUVEAU)   \n",
       "\n",
       "  Similarité  \n",
       "0        42%  \n",
       "1        54%  \n",
       "2        88%  \n",
       "3        69%  \n",
       "4        87%  "
      ]
     },
     "execution_count": 331,
     "metadata": {},
     "output_type": "execute_result"
    }
   ],
   "source": [
    "amendement_id2, amendement_id1, amendement_txt2, amendement_txt1, similarity, article2 \\\n",
    "= [], [], [], [], [], []\n",
    "\n",
    "for id2 in corresp:\n",
    "    id1, txt1, txt2, simi, art2 = corresp[id2] \n",
    "    amendement_id2.append(str(id2))\n",
    "    amendement_id1.append(str(id1))\n",
    "    amendement_txt2.append(txt2)\n",
    "    article2.append(art2)\n",
    "    amendement_txt1.append(txt1)\n",
    "    similarity.append(\"{0:.0%}\".format(simi))\n",
    "   \n",
    "df_amendements_matched = pd.DataFrame( { \\\n",
    "                                     \"N° v1\":amendement_id1, \\\n",
    "                                     \"N° v2\":amendement_id2, \\\n",
    "                                     \"Amendement v1\":amendement_txt1, \\\n",
    "                                     \"Amendement v2\":amendement_txt2, \\\n",
    "                                     \"Article v2\":article2, \\\n",
    "                                     \"Similarité\":similarity })\n",
    "df_amendements_matched.head()"
   ]
  },
  {
   "cell_type": "code",
   "execution_count": 332,
   "metadata": {},
   "outputs": [
    {
     "data": {
      "text/html": [
       "<div>\n",
       "<style scoped>\n",
       "    .dataframe tbody tr th:only-of-type {\n",
       "        vertical-align: middle;\n",
       "    }\n",
       "\n",
       "    .dataframe tbody tr th {\n",
       "        vertical-align: top;\n",
       "    }\n",
       "\n",
       "    .dataframe thead th {\n",
       "        text-align: right;\n",
       "    }\n",
       "</style>\n",
       "<table border=\"1\" class=\"dataframe\">\n",
       "  <thead>\n",
       "    <tr style=\"text-align: right;\">\n",
       "      <th></th>\n",
       "      <th>N° v1</th>\n",
       "      <th>N° v2</th>\n",
       "      <th>Amendement v1</th>\n",
       "      <th>Amendement v2</th>\n",
       "      <th>Article v2</th>\n",
       "      <th>Similarité</th>\n",
       "    </tr>\n",
       "  </thead>\n",
       "  <tbody>\n",
       "    <tr>\n",
       "      <th>0</th>\n",
       "      <td>1992</td>\n",
       "      <td>COM-8</td>\n",
       "      <td>AVANT LE TITRE 1ER, CRÉER UN TITRE 1A DISPOS...</td>\n",
       "      <td>AVANT LARTICLE 11 INSÉRER UN ARTICLE ADDITIO...</td>\n",
       "      <td>11</td>\n",
       "      <td>42%</td>\n",
       "    </tr>\n",
       "    <tr>\n",
       "      <th>5</th>\n",
       "      <td>2200</td>\n",
       "      <td>COM-9</td>\n",
       "      <td>A LARTICLE L1 DU CODE RURAL ET DE LA PÊCHE M...</td>\n",
       "      <td>AVANT LARTICLE 11 INSÉRER UN ARTICLE ADDITIO...</td>\n",
       "      <td>11</td>\n",
       "      <td>40%</td>\n",
       "    </tr>\n",
       "    <tr>\n",
       "      <th>6</th>\n",
       "      <td>2205</td>\n",
       "      <td>COM-16</td>\n",
       "      <td>DANS UN DÉLAI DE SIX MOIS À COMPTER DE LA PU...</td>\n",
       "      <td>APRÈS LARTICLE 10 OCTIES (NOUVEAU) INSÉRER ...</td>\n",
       "      <td>10 OCTIES (NOUVEAU)</td>\n",
       "      <td>68%</td>\n",
       "    </tr>\n",
       "    <tr>\n",
       "      <th>2</th>\n",
       "      <td>2179</td>\n",
       "      <td>COM-44</td>\n",
       "      <td>ARTICLE ADDITIONNEL AU TITRE I « LES RÉSIDUS ...</td>\n",
       "      <td>INSÉRER UN ARTICLE ADDITIONNEL AINSI RÉDIGÉ...</td>\n",
       "      <td>1ER</td>\n",
       "      <td>88%</td>\n",
       "    </tr>\n",
       "    <tr>\n",
       "      <th>3</th>\n",
       "      <td>2179</td>\n",
       "      <td>COM-84</td>\n",
       "      <td>ARTICLE ADDITIONNEL AU TITRE I « LES RÉSIDUS ...</td>\n",
       "      <td>APRÈS LARTICLE 10 OCTIES (NOUVEAU) INSÉRER ...</td>\n",
       "      <td>10 OCTIES (NOUVEAU)</td>\n",
       "      <td>69%</td>\n",
       "    </tr>\n",
       "  </tbody>\n",
       "</table>\n",
       "</div>"
      ],
      "text/plain": [
       "  N° v1   N° v2                                      Amendement v1  \\\n",
       "0  1992   COM-8  AVANT LE TITRE 1ER, CRÉER UN TITRE 1A DISPOS...   \n",
       "5  2200   COM-9  A LARTICLE L1 DU CODE RURAL ET DE LA PÊCHE M...   \n",
       "6  2205  COM-16  DANS UN DÉLAI DE SIX MOIS À COMPTER DE LA PU...   \n",
       "2  2179  COM-44  ARTICLE ADDITIONNEL AU TITRE I « LES RÉSIDUS ...   \n",
       "3  2179  COM-84  ARTICLE ADDITIONNEL AU TITRE I « LES RÉSIDUS ...   \n",
       "\n",
       "                                       Amendement v2           Article v2  \\\n",
       "0  AVANT LARTICLE 11 INSÉRER UN ARTICLE ADDITIO...                   11   \n",
       "5  AVANT LARTICLE 11 INSÉRER UN ARTICLE ADDITIO...                   11   \n",
       "6  APRÈS LARTICLE 10 OCTIES (NOUVEAU) INSÉRER ...  10 OCTIES (NOUVEAU)   \n",
       "2  INSÉRER UN ARTICLE ADDITIONNEL AINSI RÉDIGÉ...                  1ER   \n",
       "3  APRÈS LARTICLE 10 OCTIES (NOUVEAU) INSÉRER ...  10 OCTIES (NOUVEAU)   \n",
       "\n",
       "  Similarité  \n",
       "0        42%  \n",
       "5        40%  \n",
       "6        68%  \n",
       "2        88%  \n",
       "3        69%  "
      ]
     },
     "execution_count": 332,
     "metadata": {},
     "output_type": "execute_result"
    }
   ],
   "source": [
    "df_amendements_matched[\"id2\"] = df_amendements_matched[\"N° v2\"]\\\n",
    ".apply(lambda x:keep_digits(x))\\\n",
    ".astype(int)\n",
    "df_amendements_matched.sort_values(by=\"id2\", inplace = True, ascending=True)\n",
    "del df_amendements_matched[\"id2\"]\n",
    "\n",
    "df_amendements_matched.head()"
   ]
  },
  {
   "cell_type": "code",
   "execution_count": 333,
   "metadata": {},
   "outputs": [
    {
     "name": "stdout",
     "output_type": "stream",
     "text": [
      "Sur les 390 amendements de la nouvelle liasse, 10 ont été retrouvés dans la première liasse, soit 3%.\n",
      "Sur les 824 amendements de l'ancienne liasse, 8 ont été ré-utilisés dans la seconde liasse, soit 1%.\n",
      "      \n"
     ]
    }
   ],
   "source": [
    "nb_id2_matched = len(df_amendements_matched[\"N° v2\"].unique())\n",
    "nb_id1_matched = len(df_amendements_matched[\"N° v1\"].unique())\n",
    "nb_id2 = len(df_amendements_2)\n",
    "nb_id1 = len(df_amendements_1)\n",
    "print(\"\"\"Sur les {} amendements de la nouvelle liasse, {} ont été retrouvés dans la première liasse, \\\n",
    "soit {:.0%}.\n",
    "Sur les {} amendements de l'ancienne liasse, {} ont été ré-utilisés dans la seconde liasse, \\\n",
    "soit {:.0%}.\n",
    "      \"\"\"\\\n",
    "     .format(nb_id2, nb_id2_matched, nb_id2_matched/nb_id2, nb_id1, nb_id1_matched, nb_id1_matched/nb_id1))"
   ]
  },
  {
   "cell_type": "code",
   "execution_count": 334,
   "metadata": {},
   "outputs": [
    {
     "data": {
      "text/plain": [
       "<matplotlib.axes._subplots.AxesSubplot at 0x1185c17b8>"
      ]
     },
     "execution_count": 334,
     "metadata": {},
     "output_type": "execute_result"
    },
    {
     "data": {
      "image/png": "[encoded data removed]",
      "text/plain": [
       "<Figure size 432x288 with 1 Axes>"
      ]
     },
     "metadata": {},
     "output_type": "display_data"
    }
   ],
   "source": [
    "%matplotlib inline\n",
    "df_amendements_matched[\"Simi\"] = df_amendements_matched[\"Similarité\"]\\\n",
    ".apply(lambda x:int(x.replace(\"%\", \"\")))\n",
    "df_amendements_matched.Simi.hist(bins=100)"
   ]
  },
  {
   "cell_type": "code",
   "execution_count": 335,
   "metadata": {},
   "outputs": [],
   "source": [
    "del df_amendements_matched[\"Simi\"]"
   ]
  },
  {
   "cell_type": "code",
   "execution_count": 336,
   "metadata": {},
   "outputs": [
    {
     "data": {
      "text/html": [
       "<div>\n",
       "<style scoped>\n",
       "    .dataframe tbody tr th:only-of-type {\n",
       "        vertical-align: middle;\n",
       "    }\n",
       "\n",
       "    .dataframe tbody tr th {\n",
       "        vertical-align: top;\n",
       "    }\n",
       "\n",
       "    .dataframe thead th {\n",
       "        text-align: right;\n",
       "    }\n",
       "</style>\n",
       "<table border=\"1\" class=\"dataframe\">\n",
       "  <thead>\n",
       "    <tr style=\"text-align: right;\">\n",
       "      <th></th>\n",
       "      <th>article</th>\n",
       "      <th>N° v1</th>\n",
       "      <th>N° v2</th>\n",
       "      <th>Amendement v1</th>\n",
       "      <th>Amendement v2</th>\n",
       "      <th>Article v2</th>\n",
       "      <th>Similarité</th>\n",
       "    </tr>\n",
       "  </thead>\n",
       "  <tbody>\n",
       "    <tr>\n",
       "      <th>0</th>\n",
       "      <td>11</td>\n",
       "      <td>1992</td>\n",
       "      <td>COM-8</td>\n",
       "      <td>AVANT LE TITRE 1ER, CRÉER UN TITRE 1A DISPOS...</td>\n",
       "      <td>AVANT LARTICLE 11 INSÉRER UN ARTICLE ADDITIO...</td>\n",
       "      <td>11</td>\n",
       "      <td>42%</td>\n",
       "    </tr>\n",
       "    <tr>\n",
       "      <th>1</th>\n",
       "      <td>11</td>\n",
       "      <td>2200</td>\n",
       "      <td>COM-9</td>\n",
       "      <td>A LARTICLE L1 DU CODE RURAL ET DE LA PÊCHE M...</td>\n",
       "      <td>AVANT LARTICLE 11 INSÉRER UN ARTICLE ADDITIO...</td>\n",
       "      <td>11</td>\n",
       "      <td>40%</td>\n",
       "    </tr>\n",
       "    <tr>\n",
       "      <th>2</th>\n",
       "      <td>10 OCTIES (NOUVEAU)</td>\n",
       "      <td>2205</td>\n",
       "      <td>COM-16</td>\n",
       "      <td>DANS UN DÉLAI DE SIX MOIS À COMPTER DE LA PU...</td>\n",
       "      <td>APRÈS LARTICLE 10 OCTIES (NOUVEAU) INSÉRER ...</td>\n",
       "      <td>10 OCTIES (NOUVEAU)</td>\n",
       "      <td>68%</td>\n",
       "    </tr>\n",
       "    <tr>\n",
       "      <th>3</th>\n",
       "      <td>1ER</td>\n",
       "      <td>2179</td>\n",
       "      <td>COM-44</td>\n",
       "      <td>ARTICLE ADDITIONNEL AU TITRE I « LES RÉSIDUS ...</td>\n",
       "      <td>INSÉRER UN ARTICLE ADDITIONNEL AINSI RÉDIGÉ...</td>\n",
       "      <td>1ER</td>\n",
       "      <td>88%</td>\n",
       "    </tr>\n",
       "    <tr>\n",
       "      <th>4</th>\n",
       "      <td>10 OCTIES (NOUVEAU)</td>\n",
       "      <td>2179</td>\n",
       "      <td>COM-84</td>\n",
       "      <td>ARTICLE ADDITIONNEL AU TITRE I « LES RÉSIDUS ...</td>\n",
       "      <td>APRÈS LARTICLE 10 OCTIES (NOUVEAU) INSÉRER ...</td>\n",
       "      <td>10 OCTIES (NOUVEAU)</td>\n",
       "      <td>69%</td>\n",
       "    </tr>\n",
       "  </tbody>\n",
       "</table>\n",
       "</div>"
      ],
      "text/plain": [
       "               article N° v1   N° v2  \\\n",
       "0                   11  1992   COM-8   \n",
       "1                   11  2200   COM-9   \n",
       "2  10 OCTIES (NOUVEAU)  2205  COM-16   \n",
       "3                  1ER  2179  COM-44   \n",
       "4  10 OCTIES (NOUVEAU)  2179  COM-84   \n",
       "\n",
       "                                       Amendement v1  \\\n",
       "0  AVANT LE TITRE 1ER, CRÉER UN TITRE 1A DISPOS...   \n",
       "1  A LARTICLE L1 DU CODE RURAL ET DE LA PÊCHE M...   \n",
       "2  DANS UN DÉLAI DE SIX MOIS À COMPTER DE LA PU...   \n",
       "3  ARTICLE ADDITIONNEL AU TITRE I « LES RÉSIDUS ...   \n",
       "4  ARTICLE ADDITIONNEL AU TITRE I « LES RÉSIDUS ...   \n",
       "\n",
       "                                       Amendement v2           Article v2  \\\n",
       "0  AVANT LARTICLE 11 INSÉRER UN ARTICLE ADDITIO...                   11   \n",
       "1  AVANT LARTICLE 11 INSÉRER UN ARTICLE ADDITIO...                   11   \n",
       "2  APRÈS LARTICLE 10 OCTIES (NOUVEAU) INSÉRER ...  10 OCTIES (NOUVEAU)   \n",
       "3  INSÉRER UN ARTICLE ADDITIONNEL AINSI RÉDIGÉ...                  1ER   \n",
       "4  APRÈS LARTICLE 10 OCTIES (NOUVEAU) INSÉRER ...  10 OCTIES (NOUVEAU)   \n",
       "\n",
       "  Similarité  \n",
       "0        42%  \n",
       "1        40%  \n",
       "2        68%  \n",
       "3        88%  \n",
       "4        69%  "
      ]
     },
     "execution_count": 336,
     "metadata": {},
     "output_type": "execute_result"
    }
   ],
   "source": [
    "df_results = pd.merge(df_amendements_2, df_amendements_matched, left_on = \"nb_2\", right_on=\"N° v2\")\n",
    "\n",
    "df_results[\"N° v2\"] = df_results[\"nb_2\"]\n",
    "df_results[\"Amendement v2\"] = df_results[\"txt\"]\n",
    "\n",
    "del df_results[\"begin\"], df_results[\"end\"], df_results[\"nb_2\"], df_results[\"txt\"], df_results[\"cont\"]\n",
    "\n",
    "df_results[\"N° v1\"].fillna(\"non trouvé\", inplace = True)\n",
    "df_results[\"Amendement v1\"].fillna(\"non trouvé\", inplace = True)\n",
    "df_results[\"Similarité\"].fillna(\"0%\", inplace = True)\n",
    "\n",
    "len(df_results)\n",
    "df_results.head()"
   ]
  },
  {
   "cell_type": "code",
   "execution_count": 337,
   "metadata": {},
   "outputs": [
    {
     "data": {
      "text/plain": [
       "Index(['Cpte', 'Ordre', 'Rectifié', 'Article', 'Place', 'N°', 'Auteur',\n",
       "       'Groupe', 'Mots clefs',\n",
       "       'Avis MAA (FAV, FAV si sous-amendt, SAG, RET, DEFAV)',\n",
       "       'Sous-direction ',\n",
       "       'Avis direction (si différent de l'avis MAA initial)', 'Objet',\n",
       "       'Argumentaire fiche de banc', 'Objet ', 'ARGUMENTAIRE FICHE DE BANC',\n",
       "       'Objet .1', 'ARGUMENTAIRE FICHE DE BANC.1', 'Avis SAJ titre I',\n",
       "       'Direction', 'Valideur 1 cabinet', 'Valideur 2 cabinet',\n",
       "       'Avis DGCCRF\\n', 'MEF DLF', 'MEF - DGDDI', 'MTES',\n",
       "       'MSS :\\n DGS et DGCS\\n', 'MEN', 'Justice', 'Avis ministère demandé',\n",
       "       'Sort'],\n",
       "      dtype='object')"
      ]
     },
     "execution_count": 337,
     "metadata": {},
     "output_type": "execute_result"
    }
   ],
   "source": [
    "df_avis = pd.read_excel(\"tableau validé SP AN.xls\", skiprows=[0])[[\"N°\", \"Avis SAJ titre I\"]].fillna(\"\")\n",
    "df_avis[\"N°\"] = df_avis[\"N°\"].astype(str)\n",
    "pd.read_excel(\"tableau validé SP AN.xls\", skiprows=[0]).columns"
   ]
  },
  {
   "cell_type": "code",
   "execution_count": 338,
   "metadata": {},
   "outputs": [
    {
     "name": "stdout",
     "output_type": "stream",
     "text": [
      "10\n"
     ]
    }
   ],
   "source": [
    "df_results_final = pd.merge(df_results, df_avis, left_on=\"N° v1\", right_on=\"N°\", how='left')\n",
    "del df_results_final[\"N°\"], df_results_final[\"article\"]\n",
    "df_results_final.to_csv(\"amendements_communs_AN_senat.csv\", index=False)\n",
    "df_results_final.to_excel(\"amendements_communs_AN_senat.xls\", index=False)\n",
    "df_results_final.head()\n",
    "print(len(df_results_final))"
   ]
  },
  {
   "cell_type": "markdown",
   "metadata": {},
   "source": [
    "# Matching with previous excel"
   ]
  },
  {
   "cell_type": "code",
   "execution_count": 32,
   "metadata": {
    "collapsed": true
   },
   "outputs": [],
   "source": [
    "excel1 = pd.read_excel('ancien_derouleur.xlsx')\n",
    "excel2 = pd.read_excel('nouveau_derouleur_a_remplir2.xlsx')"
   ]
  },
  {
   "cell_type": "code",
   "execution_count": 13,
   "metadata": {
    "collapsed": false
   },
   "outputs": [],
   "source": [
    "def get_avis(df, nb):\n",
    "    avis = df[df[\"N°\"]==nb][\"Avis SAJ \"].values[0]\n",
    "    return avis\n",
    "\n",
    "def get_corresp_avis(corresp, nb):\n",
    "    if nb in corresp:\n",
    "        return get_avis(excel1, corresp[nb][0])\n",
    "    return \"\"\n",
    "\n",
    "def get_old_new_txt(corresp, nb):\n",
    "    if nb in corresp:\n",
    "        return (corresp[nb][1], corresp[nb][2], corresp[nb][3])\n",
    "    return (\"\",\"\",\"\")\n",
    "\n",
    "def get_text(df, nb):\n",
    "    df_t = df[df.nb_2==nb]\n",
    "    if len(df_t)>0:\n",
    "        return df_t.txt.values[0]\n",
    "    return \"\""
   ]
  },
  {
   "cell_type": "code",
   "execution_count": 14,
   "metadata": {
    "collapsed": true
   },
   "outputs": [],
   "source": [
    "avis, old_txt, new_txt, difference_txt, txt2= [], [], [], [], []\n",
    "for i2, row2 in excel2.iterrows():\n",
    "    nb2 = str(row2[\"N°\"])\n",
    "    avis.append(get_corresp_avis(corresp, nb2))\n",
    "    extra_cols = get_old_new_txt(corresp, nb2)\n",
    "    old_txt.append(extra_cols[0])\n",
    "    new_txt.append(extra_cols[1])\n",
    "    txt2.append(get_text(df_amendements_2, nb2))\n",
    "    difference_txt.append(extra_cols[2])"
   ]
  },
  {
   "cell_type": "code",
   "execution_count": 33,
   "metadata": {
    "collapsed": false
   },
   "outputs": [],
   "source": [
    "excel2[\"Avis SAJ\"]=avis\n",
    "excel2[\"Amendent v1\"]=old_txt\n",
    "excel2[\"Amendent v2\"]=txt2\n",
    "excel2[\"Similarité\"]=difference_txt"
   ]
  },
  {
   "cell_type": "code",
   "execution_count": 37,
   "metadata": {
    "collapsed": true
   },
   "outputs": [],
   "source": [
    "excel2[\"N°\"] = excel2[\"N°\"].apply(lambda x:str(x))\n",
    "df_tmp = pd.DataFrame(excel2.groupby(\"txt_amendement\")[\"N°\"].agg(['count', \"min\"])).reset_index()\n",
    "\n",
    "\n",
    "def has_similar(df_tmp, txt):\n",
    "    if len(txt)<3:\n",
    "        return \"\"\n",
    "    if df_tmp[df_tmp[\"txt_amendement\"]==txt][\"count\"].values[0] > 1:\n",
    "        return 'Amendement similaire au ' + str( df_tmp[df_tmp[\"txt_amendement\"]==txt][\"min\"].values[0])\n",
    "    return \"\""
   ]
  },
  {
   "cell_type": "code",
   "execution_count": 38,
   "metadata": {
    "collapsed": false
   },
   "outputs": [],
   "source": [
    "similars = []\n",
    "for i2, row2 in excel2.iterrows():\n",
    "    similars.append(has_similar(df_tmp, row2.txt_amendement))"
   ]
  },
  {
   "cell_type": "code",
   "execution_count": 39,
   "metadata": {
    "collapsed": false
   },
   "outputs": [],
   "source": [
    "excel2[\"Amendent similaire ?\"]=similars"
   ]
  },
  {
   "cell_type": "code",
   "execution_count": 40,
   "metadata": {
    "collapsed": false
   },
   "outputs": [],
   "source": [
    "excel2.to_excel('nouveau_derouleur_post_traitement.xlsx')"
   ]
  },
  {
   "cell_type": "code",
   "execution_count": null,
   "metadata": {
    "collapsed": true
   },
   "outputs": [],
   "source": []
  }
 ],
 "metadata": {
  "kernelspec": {
   "display_name": "Python 3",
   "language": "python",
   "name": "python3"
  },
  "language_info": {
   "codemirror_mode": {
    "name": "ipython",
    "version": 3
   },
   "file_extension": ".py",
   "mimetype": "text/x-python",
   "name": "python",
   "nbconvert_exporter": "python",
   "pygments_lexer": "ipython3",
   "version": "3.6.5"
  }
 },
 "nbformat": 4,
 "nbformat_minor": 2
}
