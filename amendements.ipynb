{
 "cells": [
  {
   "cell_type": "code",
   "execution_count": 8,
   "metadata": {
    "collapsed": false
   },
   "outputs": [],
   "source": [
    "# coding: utf-8\n",
    "\n",
    "# In[62]:\n",
    "\n",
    "from Levenshtein import distance\n",
    "\n",
    "\n",
    "# In[68]:\n",
    "\n",
    "import numpy as np\n",
    "\n",
    "def get_levenshtein(x,y):\n",
    "    a=max(len(x), len(y))\n",
    "    b=min(len(x), len(y))\n",
    "    if a==0:\n",
    "        return 100\n",
    "    if a > b+500:\n",
    "        return 100\n",
    "    return 2 * distance(x,y)/(len(x) + len(y))"
   ]
  },
  {
   "cell_type": "code",
   "execution_count": 7,
   "metadata": {
    "collapsed": false
   },
   "outputs": [
    {
     "name": "stdout",
     "output_type": "stream",
     "text": [
      "Lecture du fichier amendements CAE liasse 1 .txt,Lecture du fichier 10_ après 15.txt,Lecture du fichier 11_art 15 bis à avant 16.txt,Lecture du fichier 12- art 16 à la fin.txt,Lecture du fichier 1_  avant 11 et 11 liasse 2.txt,Lecture du fichier 2 _ art 11- après 11.txt,Lecture du fichier 3_ 11 bis après 11 quindecies.txt,Lecture du fichier 4- art 11 sexdecies -après 12.txt,Lecture du fichier 5_ art 12 bis -après 13 ter.txt,Lecture du fichier 6_ après 13 ter- après 14.txt,Lecture du fichier 8_ 14 bis -après 14 undecies.txt,Lecture du fichier 9_ art 15.txt,874\n",
      "1379\n"
     ]
    }
   ],
   "source": [
    "import pandas as pd\n",
    "import os\n",
    "import unicodedata\n",
    "\n",
    "def normalize_text(x):\n",
    "    return unicodedata.normalize(\"NFKD\", x.replace(\";\",\" \"))\n",
    "\n",
    "projet_loi = normalize_text(\"EQUILIBRE DANS LE SECTEUR AGRICOLE ET ALIMENTAIRE\")\n",
    "\n",
    "\n",
    "def lecture_amendement(folder):\n",
    "    res=\"\"\n",
    "    starts=[]\n",
    "    row=0\n",
    "    all_amendement = []\n",
    "    \n",
    "    for f in os.listdir(folder):\n",
    "        print(\"Lecture du fichier {}\".format(f), end=',')\n",
    "        current_file= open(folder+\"/\"+f)\n",
    "        \n",
    "        for line in current_file:\n",
    "            all_amendement.append(normalize_text(line.strip()))\n",
    "            if line.strip()[0:len(projet_loi)] == projet_loi:\n",
    "                starts.append(row-5)\n",
    "            row+=1\n",
    "                \n",
    "        current_file.close()\n",
    "    return starts, all_amendement\n",
    "        \n",
    "starts_1, all_amendement_1 = lecture_amendement(\"ancienne_liasse/\")\n",
    "starts_2, all_amendement_2 = lecture_amendement(\"nouvelle_liasse/\")\n",
    "\n",
    "\n",
    "\n",
    "# In[53]:\n",
    "\n",
    "def get_amendement_nb(x):\n",
    "    try:\n",
    "        return x[1].replace(\"N° \",\"\")\n",
    "    except:\n",
    "        return \"0\"\n",
    "\n",
    "\n",
    "# In[202]:\n",
    "\n",
    "def get_amendement_text(x):\n",
    "    start,end=0,0\n",
    "    for i in range(0, len(x)):\n",
    "        if x[i]==normalize_text(\"----------\"):\n",
    "            start=i+3\n",
    "        if normalize_text(x[i][0:5])==normalize_text(\"EXPOS\"):\n",
    "            end=i\n",
    "    candidate = x[start:end]\n",
    "    res=[]\n",
    "    for i in range(0, len(candidate)):\n",
    "        if \"Cet amendement est en cours\" in candidate[i]:\n",
    "            continue\n",
    "        elif len(candidate[i]) < 2:\n",
    "            continue\n",
    "        else:\n",
    "            res.append(candidate[i])\n",
    "    return \" \".join(res).replace(\"  \", \" \")\n",
    "\n",
    "\n",
    "\n",
    "\n",
    "# In[54]:\n",
    "\n",
    "def get_amendements(starts, all_amendements, version):\n",
    "    amendements_nb, amendements_txt, begins, ends = [],[],[], []\n",
    "    for i in range(0, len(starts)):\n",
    "        if i<len(starts)-1:\n",
    "            begin=starts[i]\n",
    "            end=starts[i+1]\n",
    "        else:\n",
    "            begin=starts[-1]\n",
    "            end=len(all_amendements)\n",
    "        #print(begin, end)\n",
    "        current_amendement = all_amendements[begin:end]\n",
    "        #print(starts[i], starts[i+1])\n",
    "        amendements_nb.append(get_amendement_nb(current_amendement))\n",
    "        amendements_txt.append(get_amendement_text(current_amendement))\n",
    "        begins.append(begin)\n",
    "        ends.append(end)\n",
    "    return pd.DataFrame({'nb_'+version:amendements_nb, 'txt':amendements_txt, 'begin':begins, 'end':ends})\n",
    "\n",
    "\n",
    "# In[204]:\n",
    "\n",
    "df_amendements_1 = get_amendements(starts_1, all_amendement_1,'1')\n",
    "print(len(df_amendements_1))\n",
    "df_amendements_2 = get_amendements(starts_2, all_amendement_2,'2')\n",
    "print(len(df_amendements_2))"
   ]
  },
  {
   "cell_type": "code",
   "execution_count": 10,
   "metadata": {
    "collapsed": false
   },
   "outputs": [
    {
     "name": "stdout",
     "output_type": "stream",
     "text": [
      "0,10,20,30,40,50,60,70,80,90,100,110,120,130,140,150,160,170,180,190,200,210,220,230,240,250,260,270,280,290,300,310,320,330,340,350,360,370,380,390,400,410,420,430,440,450,460,470,480,490,500,510,520,530,540,550,560,570,580,590,600,610,620,630,640,650,660,670,680,690,700,710,720,730,740,750,760,770,780,790,800,810,820,830,840,850,860,870,"
     ]
    }
   ],
   "source": [
    "corresp={}\n",
    "for i1, row1 in df_amendements_1.iterrows():\n",
    "    if i1%10==0:\n",
    "        print(i1, end=\",\")\n",
    "    for i2,row2 in df_amendements_2.iterrows():\n",
    "        l = get_levenshtein(row1.txt,row2.txt)\n",
    "        if(l<0.3):\n",
    "            corresp[row2.nb_2] = (row1.nb_1, row1.txt, row2.txt, l)\n",
    "            continue"
   ]
  },
  {
   "cell_type": "code",
   "execution_count": 32,
   "metadata": {
    "collapsed": true
   },
   "outputs": [],
   "source": [
    "excel1 = pd.read_excel('ancien_derouleur.xlsx')\n",
    "excel2 = pd.read_excel('nouveau_derouleur_a_remplir2.xlsx')"
   ]
  },
  {
   "cell_type": "code",
   "execution_count": 13,
   "metadata": {
    "collapsed": false
   },
   "outputs": [],
   "source": [
    "def get_avis(df, nb):\n",
    "    avis = df[df[\"N°\"]==nb][\"Avis SAJ \"].values[0]\n",
    "    return avis\n",
    "\n",
    "def get_corresp_avis(corresp, nb):\n",
    "    if nb in corresp:\n",
    "        return get_avis(excel1, corresp[nb][0])\n",
    "    return \"\"\n",
    "\n",
    "def get_old_new_txt(corresp, nb):\n",
    "    if nb in corresp:\n",
    "        return (corresp[nb][1], corresp[nb][2], corresp[nb][3])\n",
    "    return (\"\",\"\",\"\")\n",
    "\n",
    "def get_text(df, nb):\n",
    "    df_t = df[df.nb_2==nb]\n",
    "    if len(df_t)>0:\n",
    "        return df_t.txt.values[0]\n",
    "    return \"\""
   ]
  },
  {
   "cell_type": "code",
   "execution_count": 14,
   "metadata": {
    "collapsed": true
   },
   "outputs": [],
   "source": [
    "avis, old_txt, new_txt, difference_txt, txt2= [], [], [], [], []\n",
    "for i2, row2 in excel2.iterrows():\n",
    "    nb2 = str(row2[\"N°\"])\n",
    "    avis.append(get_corresp_avis(corresp, nb2))\n",
    "    extra_cols = get_old_new_txt(corresp, nb2)\n",
    "    old_txt.append(extra_cols[0])\n",
    "    new_txt.append(extra_cols[1])\n",
    "    txt2.append(get_text(df_amendements_2, nb2))\n",
    "    difference_txt.append(extra_cols[2])"
   ]
  },
  {
   "cell_type": "code",
   "execution_count": 33,
   "metadata": {
    "collapsed": false
   },
   "outputs": [],
   "source": [
    "excel2[\"txt_amendement\"] = txt2\n",
    "\n",
    "excel2[\"Avis SAJ\"]=avis\n",
    "excel2[\"Amendent v1\"]=old_txt\n",
    "excel2[\"Amendent v2\"]=new_txt\n",
    "excel2[\"difference_amendement\"]=difference_txt"
   ]
  },
  {
   "cell_type": "code",
   "execution_count": 22,
   "metadata": {
    "collapsed": false
   },
   "outputs": [
    {
     "data": {
      "text/html": [
       "<div>\n",
       "<table border=\"1\" class=\"dataframe\">\n",
       "  <thead>\n",
       "    <tr style=\"text-align: right;\">\n",
       "      <th></th>\n",
       "      <th>txt_amendement</th>\n",
       "      <th>count</th>\n",
       "      <th>min</th>\n",
       "    </tr>\n",
       "  </thead>\n",
       "  <tbody>\n",
       "    <tr>\n",
       "      <th>0</th>\n",
       "      <td></td>\n",
       "      <td>1247</td>\n",
       "      <td>1</td>\n",
       "    </tr>\n",
       "    <tr>\n",
       "      <th>1</th>\n",
       "      <td>\"D’ici le 1er janvier 2030, les signes d’ident...</td>\n",
       "      <td>1</td>\n",
       "      <td>2470</td>\n",
       "    </tr>\n",
       "    <tr>\n",
       "      <th>2</th>\n",
       "      <td>\"I. Au plus tard le 1er janvier 2021,un décre...</td>\n",
       "      <td>1</td>\n",
       "      <td>2466</td>\n",
       "    </tr>\n",
       "    <tr>\n",
       "      <th>3</th>\n",
       "      <td>\"L'Etat se donne pour objectif à compter de 2...</td>\n",
       "      <td>1</td>\n",
       "      <td>2113</td>\n",
       "    </tr>\n",
       "    <tr>\n",
       "      <th>4</th>\n",
       "      <td>1° Après les mots « des structures » ajouter ...</td>\n",
       "      <td>1</td>\n",
       "      <td>1889</td>\n",
       "    </tr>\n",
       "  </tbody>\n",
       "</table>\n",
       "</div>"
      ],
      "text/plain": [
       "                                      txt_amendement  count   min\n",
       "0                                                      1247     1\n",
       "1  \"D’ici le 1er janvier 2030, les signes d’ident...      1  2470\n",
       "2  \"I. Au plus tard le 1er janvier 2021,un décre...      1  2466\n",
       "3  \"L'Etat se donne pour objectif à compter de 2...      1  2113\n",
       "4  1° Après les mots « des structures » ajouter ...      1  1889"
      ]
     },
     "execution_count": 22,
     "metadata": {},
     "output_type": "execute_result"
    }
   ],
   "source": [
    "df_tmp.head()"
   ]
  },
  {
   "cell_type": "code",
   "execution_count": 37,
   "metadata": {
    "collapsed": true
   },
   "outputs": [],
   "source": [
    "excel2[\"N°\"] = excel2[\"N°\"].apply(lambda x:str(x))\n",
    "df_tmp = pd.DataFrame(excel2.groupby(\"txt_amendement\")[\"N°\"].agg(['count', \"min\"])).reset_index()\n",
    "\n",
    "\n",
    "# In[195]:\n",
    "\n",
    "def has_similar(df_tmp, txt):\n",
    "    if len(txt)<3:\n",
    "        return \"\"\n",
    "    if df_tmp[df_tmp[\"txt_amendement\"]==txt][\"count\"].values[0] > 1:\n",
    "        return 'Amendement similaire au ' + str( df_tmp[df_tmp[\"txt_amendement\"]==txt][\"min\"].values[0])\n",
    "    return \"\""
   ]
  },
  {
   "cell_type": "code",
   "execution_count": 38,
   "metadata": {
    "collapsed": false
   },
   "outputs": [],
   "source": [
    "similars = []\n",
    "for i2, row2 in excel2.iterrows():\n",
    "    similars.append(has_similar(df_tmp, row2.txt_amendement))"
   ]
  },
  {
   "cell_type": "code",
   "execution_count": 39,
   "metadata": {
    "collapsed": false
   },
   "outputs": [],
   "source": [
    "excel2[\"Amendent similaire ?\"]=similars"
   ]
  },
  {
   "cell_type": "code",
   "execution_count": 40,
   "metadata": {
    "collapsed": false
   },
   "outputs": [],
   "source": [
    "excel2.to_excel('nouveau_derouleur_post_traitement.xlsx')"
   ]
  },
  {
   "cell_type": "code",
   "execution_count": null,
   "metadata": {
    "collapsed": true
   },
   "outputs": [],
   "source": []
  }
 ],
 "metadata": {
  "kernelspec": {
   "display_name": "Python 3",
   "language": "python",
   "name": "python3"
  },
  "language_info": {
   "codemirror_mode": {
    "name": "ipython",
    "version": 3
   },
   "file_extension": ".py",
   "mimetype": "text/x-python",
   "name": "python",
   "nbconvert_exporter": "python",
   "pygments_lexer": "ipython3",
   "version": "3.4.5"
  }
 },
 "nbformat": 4,
 "nbformat_minor": 1
}
