{
 "cells": [
  {
   "cell_type": "code",
   "execution_count": 1,
   "metadata": {},
   "outputs": [],
   "source": [
    "from Levenshtein import distance\n",
    "import numpy as np\n",
    "import pandas as pd\n",
    "import os\n",
    "import unicodedata"
   ]
  },
  {
   "cell_type": "code",
   "execution_count": 2,
   "metadata": {
    "collapsed": false
   },
   "outputs": [],
   "source": [
    "def get_levenshtein(x,y):\n",
    "    # ordering the inputs by length so that a<=b\n",
    "    a=max(len(x), len(y))\n",
    "    b=min(len(x), len(y))\n",
    "    if a==0: # one of the input is empty\n",
    "        return 1.\n",
    "    if a > b+500: # if there are more than 500 more chars then return 100%\n",
    "        return 1.\n",
    "    # return the levenshtein distance normalized by the mean length\n",
    "    mean_length = (a + b)/2.\n",
    "    return 2 * distance(x,y)/mean_length\n",
    "\n",
    "def normalize_text(x):\n",
    "    return unicodedata.normalize(\"NFKD\", x.replace(\";\",\" \"))"
   ]
  },
  {
   "cell_type": "code",
   "execution_count": 3,
   "metadata": {},
   "outputs": [],
   "source": [
    "projet_loi = normalize_text(\"EQUILIBRE DANS LE SECTEUR AGRICOLE ET ALIMENTAIRE\")"
   ]
  },
  {
   "cell_type": "code",
   "execution_count": 4,
   "metadata": {
    "collapsed": false
   },
   "outputs": [
    {
     "name": "stdout",
     "output_type": "stream",
     "text": [
      "Lecture des fichiers dans ancienne_liasse/ : \n",
      "amendements CAE liasse 1 .txt,\n",
      "\n",
      "Lecture des fichiers dans nouvelle_liasse/ : \n",
      "10_ après 15.txt,11_art 15 bis à avant 16.txt,12- art 16 à la fin.txt,1_  avant 11 et 11 liasse 2.txt,2 _ art 11- après 11.txt,3_ 11 bis après 11 quindecies.txt,4- art 11 sexdecies -après 12.txt,5_ art 12 bis -après 13 ter.txt,6_ après 13 ter- après 14.txt,8_ 14 bis -après 14 undecies.txt,9_ art 15.txt,\n",
      "\n",
      "Il y a 874 amendements dans la liasse 1\n",
      "Il y a 1379 amendements dans la liasse 2\n"
     ]
    }
   ],
   "source": [
    "def lecture_amendement(folder):\n",
    "    res=\"\"\n",
    "    starts=[]\n",
    "    row=0\n",
    "    all_amendement = []\n",
    "    print(\"Lecture des fichiers dans {} : \".format(folder))\n",
    "    for f in os.listdir(folder):\n",
    "        print(\"{}\".format(f), end=',')\n",
    "        current_file= open(folder+\"/\"+f, encoding=\"iso-8859-1\")\n",
    "        \n",
    "        for line in current_file:\n",
    "            all_amendement.append(normalize_text(line.strip()))\n",
    "            if line.strip()[0:len(projet_loi)] == projet_loi:\n",
    "                starts.append(row-5)\n",
    "            row+=1\n",
    "                \n",
    "        current_file.close()\n",
    "    print(\"\")\n",
    "    print(\"\")\n",
    "    return starts, all_amendement\n",
    "        \n",
    "starts_1, all_amendement_1 = lecture_amendement(\"ancienne_liasse/\")\n",
    "starts_2, all_amendement_2 = lecture_amendement(\"nouvelle_liasse/\")\n",
    "\n",
    "\n",
    "def get_amendement_nb(x):\n",
    "    try:\n",
    "        return x[1].replace(\"N° \",\"\")\n",
    "    except:\n",
    "        return \"0\"\n",
    "\n",
    "\n",
    "def get_amendement_text(x):\n",
    "    start,end=0,0\n",
    "    for i in range(0, len(x)):\n",
    "        if x[i]==normalize_text(\"----------\"):\n",
    "            start=i+3\n",
    "        if normalize_text(x[i][0:5])==normalize_text(\"EXPOS\"):\n",
    "            end=i\n",
    "    candidate = x[start:end]\n",
    "    res=[]\n",
    "    for i in range(0, len(candidate)):\n",
    "        if \"Cet amendement est en cours\" in candidate[i]:\n",
    "            continue\n",
    "        elif len(candidate[i]) < 2:\n",
    "            continue\n",
    "        else:\n",
    "            res.append(candidate[i])\n",
    "    return \" \".join(res).replace(\"  \", \" \")\n",
    "\n",
    "def get_amendements(starts, all_amendements, version):\n",
    "    amendements_nb, amendements_txt, begins, ends = [],[],[], []\n",
    "    for i in range(0, len(starts)):\n",
    "        if i<len(starts)-1:\n",
    "            begin=starts[i]\n",
    "            end=starts[i+1]\n",
    "        else:\n",
    "            begin=starts[-1]\n",
    "            end=len(all_amendements)\n",
    "        #print(begin, end)\n",
    "        current_amendement = all_amendements[begin:end]\n",
    "        #print(starts[i], starts[i+1])\n",
    "        amendements_nb.append(get_amendement_nb(current_amendement))\n",
    "        amendements_txt.append(get_amendement_text(current_amendement))\n",
    "        begins.append(begin)\n",
    "        ends.append(end)\n",
    "    \n",
    "    df_amendement = pd.DataFrame({'nb_'+version:amendements_nb, 'txt':amendements_txt, 'begin':begins, 'end':ends})\n",
    "    print(\"Il y a {} amendements dans la liasse {}\".format(len(df_amendement), version))\n",
    "    return df_amendement\n",
    "\n",
    "df_amendements_1 = get_amendements(starts_1, all_amendement_1,'1')\n",
    "df_amendements_2 = get_amendements(starts_2, all_amendement_2,'2')\n"
   ]
  },
  {
   "cell_type": "code",
   "execution_count": 6,
   "metadata": {
    "collapsed": false
   },
   "outputs": [
    {
     "name": "stdout",
     "output_type": "stream",
     "text": [
      "0 %  2 %  4 %  6 %  9 %  11 %  13 %  16 %  18 %  20 %  22 %  25 %  27 %  29 %  32 %  34 %  36 %  38 %  41 %  43 %  45 %  48 %  50 %  52 %  54 %  57 %  59 %  61 %  64 %  66 %  68 %  70 %  73 %  75 %  77 %  80 %  82 %  84 %  86 %  89 %  91 %  93 %  96 %  98 %  "
     ]
    },
    {
     "data": {
      "text/html": [
       "<div>\n",
       "<style scoped>\n",
       "    .dataframe tbody tr th:only-of-type {\n",
       "        vertical-align: middle;\n",
       "    }\n",
       "\n",
       "    .dataframe tbody tr th {\n",
       "        vertical-align: top;\n",
       "    }\n",
       "\n",
       "    .dataframe thead th {\n",
       "        text-align: right;\n",
       "    }\n",
       "</style>\n",
       "<table border=\"1\" class=\"dataframe\">\n",
       "  <thead>\n",
       "    <tr style=\"text-align: right;\">\n",
       "      <th></th>\n",
       "      <th>N° v1</th>\n",
       "      <th>N° v2</th>\n",
       "      <th>Amendement v1</th>\n",
       "      <th>Amendement v2</th>\n",
       "      <th>Similarité</th>\n",
       "    </tr>\n",
       "  </thead>\n",
       "  <tbody>\n",
       "    <tr>\n",
       "      <th>0</th>\n",
       "      <td>CE520</td>\n",
       "      <td>1352</td>\n",
       "      <td>AVANT L'ARTICLE 11, insérer l'article suivant...</td>\n",
       "      <td>Larticle L. 230-5 du même code rural est ain...</td>\n",
       "      <td>85%</td>\n",
       "    </tr>\n",
       "    <tr>\n",
       "      <th>1</th>\n",
       "      <td>CE1365</td>\n",
       "      <td>1948</td>\n",
       "      <td>Dans un délai de six mois à compter de la pu...</td>\n",
       "      <td>« Dans un délai de six mois à compter de la ...</td>\n",
       "      <td>93%</td>\n",
       "    </tr>\n",
       "    <tr>\n",
       "      <th>2</th>\n",
       "      <td>CE1365</td>\n",
       "      <td>2362</td>\n",
       "      <td>Dans un délai de six mois à compter de la pu...</td>\n",
       "      <td>Dans un délai de six mois à compter de la pu...</td>\n",
       "      <td>100%</td>\n",
       "    </tr>\n",
       "    <tr>\n",
       "      <th>3</th>\n",
       "      <td>CE1367</td>\n",
       "      <td>2372</td>\n",
       "      <td>I.  Le Gouvernement remet au Parlement, dans ...</td>\n",
       "      <td>I.  Le Gouvernement remet au Parlement, dans ...</td>\n",
       "      <td>100%</td>\n",
       "    </tr>\n",
       "    <tr>\n",
       "      <th>4</th>\n",
       "      <td>CE1368</td>\n",
       "      <td>2031</td>\n",
       "      <td>Après la 1ere phrase de larticle L.330-1 du ...</td>\n",
       "      <td>Après la 1ere phrase de larticle L.330-1 du ...</td>\n",
       "      <td>100%</td>\n",
       "    </tr>\n",
       "  </tbody>\n",
       "</table>\n",
       "</div>"
      ],
      "text/plain": [
       "    N° v1 N° v2                                      Amendement v1  \\\n",
       "0   CE520  1352  AVANT L'ARTICLE 11, insérer l'article suivant...   \n",
       "1  CE1365  1948  Dans un délai de six mois à compter de la pu...   \n",
       "2  CE1365  2362  Dans un délai de six mois à compter de la pu...   \n",
       "3  CE1367  2372  I.  Le Gouvernement remet au Parlement, dans ...   \n",
       "4  CE1368  2031  Après la 1ere phrase de larticle L.330-1 du ...   \n",
       "\n",
       "                                       Amendement v2 Similarité  \n",
       "0  Larticle L. 230-5 du même code rural est ain...        85%  \n",
       "1  « Dans un délai de six mois à compter de la ...        93%  \n",
       "2  Dans un délai de six mois à compter de la pu...       100%  \n",
       "3  I.  Le Gouvernement remet au Parlement, dans ...       100%  \n",
       "4  Après la 1ere phrase de larticle L.330-1 du ...       100%  "
      ]
     },
     "execution_count": 6,
     "metadata": {},
     "output_type": "execute_result"
    }
   ],
   "source": [
    "threshold = 0.5\n",
    "\n",
    "corresp={}\n",
    "amendement_id2, amendement_id1, amendement_txt2, amendement_txt1, similarity \\\n",
    "= [], [], [], [], []\n",
    "\n",
    "for i1, row1 in df_amendements_1.iterrows():\n",
    "    \n",
    "    if i1 % 20 == 0:\n",
    "        print( \"{} %\".format(int(i1 * 100 / len(df_amendements_1))), end=\"  \")\n",
    "    for i2,row2 in df_amendements_2.iterrows():\n",
    "        l = get_levenshtein(row1.txt,row2.txt)\n",
    "        if(l<threshold):\n",
    "            corresp[row2.nb_2] = (row1.nb_1, row1.txt, row2.txt, \"{0:.0%}\".format(1-l))\n",
    "            amendement_id2.append(str(row2.nb_2))\n",
    "            amendement_id1.append(str(row1.nb_1))\n",
    "            amendement_txt2.append(row2.txt)\n",
    "            amendement_txt1.append(row1.txt)\n",
    "            similarity.append(\"{0:.0%}\".format(1-l))\n",
    "            continue\n",
    "   \n",
    "df_amendements_matched = pd.DataFrame( { \\\n",
    "                                     \"N° v1\":amendement_id1, \\\n",
    "                                     \"N° v2\":amendement_id2, \\\n",
    "                                     \"Amendement v1\":amendement_txt1, \\\n",
    "                                     \"Amendement v2\":amendement_txt2, \\\n",
    "                                     \"Similarité\":similarity })\n",
    "df_amendements_matched.head()"
   ]
  },
  {
   "cell_type": "code",
   "execution_count": 14,
   "metadata": {},
   "outputs": [
    {
     "name": "stdout",
     "output_type": "stream",
     "text": [
      "1977\n",
      "571\n"
     ]
    },
    {
     "data": {
      "text/plain": [
       "467"
      ]
     },
     "execution_count": 14,
     "metadata": {},
     "output_type": "execute_result"
    }
   ],
   "source": [
    "print(len(df_amendements_matched))\n",
    "print(len(df_amendements_matched[\"N° v2\"].unique()))\n",
    "len(df_amendements_matched[\"N° v1\"].unique())"
   ]
  },
  {
   "cell_type": "code",
   "execution_count": 26,
   "metadata": {},
   "outputs": [
    {
     "data": {
      "text/plain": [
       "<matplotlib.axes._subplots.AxesSubplot at 0x114ec9d68>"
      ]
     },
     "execution_count": 26,
     "metadata": {},
     "output_type": "execute_result"
    },
    {
     "data": {
      "image/png": "[encoded data removed]",
      "text/plain": [
       "<Figure size 432x288 with 1 Axes>"
      ]
     },
     "metadata": {},
     "output_type": "display_data"
    }
   ],
   "source": [
    "df_amendements_matched[\"Simi\"] = df_amendements_matched[\"Similarité\"]\\\n",
    ".apply(lambda x:int(x.replace(\"%\", \"\")))\n",
    "df_amendements_matched.Simi.hist(bins=100)"
   ]
  },
  {
   "cell_type": "code",
   "execution_count": 31,
   "metadata": {},
   "outputs": [],
   "source": [
    "df_amendements_matched[df_amendements_matched[\"Simi\"]<60]\n",
    "\n",
    "df_amendements_matched[df_amendements_matched[\"N° v2\"] == '1621'].to_csv('tt.csv')"
   ]
  },
  {
   "cell_type": "markdown",
   "metadata": {},
   "source": [
    "# Matching with previous excel"
   ]
  },
  {
   "cell_type": "code",
   "execution_count": 32,
   "metadata": {
    "collapsed": true
   },
   "outputs": [],
   "source": [
    "excel1 = pd.read_excel('ancien_derouleur.xlsx')\n",
    "excel2 = pd.read_excel('nouveau_derouleur_a_remplir2.xlsx')"
   ]
  },
  {
   "cell_type": "code",
   "execution_count": 13,
   "metadata": {
    "collapsed": false
   },
   "outputs": [],
   "source": [
    "def get_avis(df, nb):\n",
    "    avis = df[df[\"N°\"]==nb][\"Avis SAJ \"].values[0]\n",
    "    return avis\n",
    "\n",
    "def get_corresp_avis(corresp, nb):\n",
    "    if nb in corresp:\n",
    "        return get_avis(excel1, corresp[nb][0])\n",
    "    return \"\"\n",
    "\n",
    "def get_old_new_txt(corresp, nb):\n",
    "    if nb in corresp:\n",
    "        return (corresp[nb][1], corresp[nb][2], corresp[nb][3])\n",
    "    return (\"\",\"\",\"\")\n",
    "\n",
    "def get_text(df, nb):\n",
    "    df_t = df[df.nb_2==nb]\n",
    "    if len(df_t)>0:\n",
    "        return df_t.txt.values[0]\n",
    "    return \"\""
   ]
  },
  {
   "cell_type": "code",
   "execution_count": 14,
   "metadata": {
    "collapsed": true
   },
   "outputs": [],
   "source": [
    "avis, old_txt, new_txt, difference_txt, txt2= [], [], [], [], []\n",
    "for i2, row2 in excel2.iterrows():\n",
    "    nb2 = str(row2[\"N°\"])\n",
    "    avis.append(get_corresp_avis(corresp, nb2))\n",
    "    extra_cols = get_old_new_txt(corresp, nb2)\n",
    "    old_txt.append(extra_cols[0])\n",
    "    new_txt.append(extra_cols[1])\n",
    "    txt2.append(get_text(df_amendements_2, nb2))\n",
    "    difference_txt.append(extra_cols[2])"
   ]
  },
  {
   "cell_type": "code",
   "execution_count": 33,
   "metadata": {
    "collapsed": false
   },
   "outputs": [],
   "source": [
    "excel2[\"txt_amendement\"] = txt2\n",
    "\n",
    "excel2[\"Avis SAJ\"]=avis\n",
    "excel2[\"Amendent v1\"]=old_txt\n",
    "excel2[\"Amendent v2\"]=new_txt\n",
    "excel2[\"difference_amendement\"]=difference_txt"
   ]
  },
  {
   "cell_type": "code",
   "execution_count": 37,
   "metadata": {
    "collapsed": true
   },
   "outputs": [],
   "source": [
    "excel2[\"N°\"] = excel2[\"N°\"].apply(lambda x:str(x))\n",
    "df_tmp = pd.DataFrame(excel2.groupby(\"txt_amendement\")[\"N°\"].agg(['count', \"min\"])).reset_index()\n",
    "\n",
    "\n",
    "def has_similar(df_tmp, txt):\n",
    "    if len(txt)<3:\n",
    "        return \"\"\n",
    "    if df_tmp[df_tmp[\"txt_amendement\"]==txt][\"count\"].values[0] > 1:\n",
    "        return 'Amendement similaire au ' + str( df_tmp[df_tmp[\"txt_amendement\"]==txt][\"min\"].values[0])\n",
    "    return \"\""
   ]
  },
  {
   "cell_type": "code",
   "execution_count": 38,
   "metadata": {
    "collapsed": false
   },
   "outputs": [],
   "source": [
    "similars = []\n",
    "for i2, row2 in excel2.iterrows():\n",
    "    similars.append(has_similar(df_tmp, row2.txt_amendement))"
   ]
  },
  {
   "cell_type": "code",
   "execution_count": 39,
   "metadata": {
    "collapsed": false
   },
   "outputs": [],
   "source": [
    "excel2[\"Amendent similaire ?\"]=similars"
   ]
  },
  {
   "cell_type": "code",
   "execution_count": 40,
   "metadata": {
    "collapsed": false
   },
   "outputs": [],
   "source": [
    "excel2.to_excel('nouveau_derouleur_post_traitement.xlsx')"
   ]
  },
  {
   "cell_type": "code",
   "execution_count": null,
   "metadata": {
    "collapsed": true
   },
   "outputs": [],
   "source": []
  }
 ],
 "metadata": {
  "kernelspec": {
   "display_name": "Python 3",
   "language": "python",
   "name": "python3"
  },
  "language_info": {
   "codemirror_mode": {
    "name": "ipython",
    "version": 3
   },
   "file_extension": ".py",
   "mimetype": "text/x-python",
   "name": "python",
   "nbconvert_exporter": "python",
   "pygments_lexer": "ipython3",
   "version": "3.6.5"
  }
 },
 "nbformat": 4,
 "nbformat_minor": 2
}
